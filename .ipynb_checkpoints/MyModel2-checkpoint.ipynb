{
 "cells": [
  {
   "cell_type": "code",
   "execution_count": null,
   "id": "9a13e1ce",
   "metadata": {},
   "outputs": [],
   "source": [
    "import os\n",
    "import numpy as np\n",
    "import cv2\n",
    "from sklearn.model_selection import train_test_split\n",
    "from tensorflow.keras import layers, models"
   ]
  },
  {
   "cell_type": "code",
   "execution_count": null,
   "id": "614e9930",
   "metadata": {
    "lines_to_next_cell": 1
   },
   "outputs": [],
   "source": [
    "# Define constants\n",
    "data_dir = 'synthetic'  # Specify the path to your data directory\n",
    "image_size = (512, 512, 20)  # Image size with depth channel and multiple angles\n",
    "num_classes = 1  # Number of output classes (child height)\n",
    "batch_size = 32\n",
    "epochs = 20"
   ]
  },
  {
   "cell_type": "code",
   "execution_count": null,
   "id": "086218f0",
   "metadata": {
    "lines_to_next_cell": 1
   },
   "outputs": [],
   "source": [
    "# Function to load images and labels\n",
    "def load_data(data_dir):\n",
    "    images = []\n",
    "    labels = []\n",
    "\n",
    "    for child_id in range(200):  # Child IDs from 000 to 199\n",
    "        combined_image = None  # Initialize combined image for each child\n",
    "        text_file_name = f\"scene000{child_id:03d}_030.txt\"\n",
    "        for angle in [30, 60, 90, 120, 150]:\n",
    "            # Create file name\n",
    "            file_name = f\"scene000{child_id:03d}_{angle:03d}.png\"\n",
    "            #print(file_name)\n",
    "\n",
    "            # Load RGB image\n",
    "            image_path = os.path.join(data_dir, file_name)\n",
    "            image = cv2.imread(image_path, cv2.IMREAD_COLOR)  # Load RGB channels\n",
    "            #image = cv2.resize(image, image_size[:2])  # Resize image\n",
    "\n",
    "            # Load corresponding depth map\n",
    "            depth_file = file_name.replace('scene', 'depth')\n",
    "            depth_path = os.path.join(data_dir, depth_file)\n",
    "            depth = cv2.imread(depth_path, cv2.IMREAD_GRAYSCALE)  # Load depth map\n",
    "            #depth = cv2.resize(depth, image_size[:2])  # Resize depth map\n",
    "\n",
    "            # Stack depth as an additional channel\n",
    "            combined_single_angle_image = np.dstack((image, depth))\n",
    "\n",
    "            if combined_image is None:\n",
    "                combined_image = combined_single_angle_image\n",
    "            else:\n",
    "                combined_image = np.concatenate((combined_image, combined_single_angle_image), axis=-1)\n",
    "\n",
    "        images.append(combined_image)\n",
    "\n",
    "        # Load corresponding label\n",
    "        \n",
    "        label_path = os.path.join(data_dir, text_file_name)\n",
    "        with open(label_path, 'r') as f:\n",
    "            label = float(f.read().strip().split(':')[1])\n",
    "        labels.append(label)\n",
    "\n",
    "    return np.array(images), np.array(labels)"
   ]
  },
  {
   "cell_type": "code",
   "execution_count": null,
   "id": "12f91dcb",
   "metadata": {},
   "outputs": [],
   "source": [
    "# Load data\n",
    "images, labels = load_data(data_dir)"
   ]
  },
  {
   "cell_type": "code",
   "execution_count": null,
   "id": "33b81d65",
   "metadata": {},
   "outputs": [],
   "source": [
    "print(labels.shape)\n",
    "first_image = images[0]\n",
    "first_layer = first_image[:, :, 19:21]  # Extract the first layer (channel)\n",
    "\n",
    "# Display the first layer\n",
    "plt.imshow(first_layer)  # Assuming it's a grayscale image\n",
    "plt.axis('off')  # Hide axes\n",
    "plt.show()"
   ]
  },
  {
   "cell_type": "code",
   "execution_count": null,
   "id": "318fbaed",
   "metadata": {
    "lines_to_next_cell": 1
   },
   "outputs": [],
   "source": [
    "# Split data into training and testing sets\n",
    "images_train, images_test, labels_train, labels_test = train_test_split(\n",
    "    images, labels, test_size=0.2, random_state=42)"
   ]
  },
  {
   "cell_type": "code",
   "execution_count": null,
   "id": "64f2add1",
   "metadata": {
    "lines_to_next_cell": 1
   },
   "outputs": [],
   "source": [
    "# Define CNN model (updated input shape with batch normalization layers)\n",
    "def create_model():\n",
    "    inputs = layers.Input(shape=image_size)\n",
    "\n",
    "    # Convolutional layers with batch normalization\n",
    "    conv = layers.Conv2D(32, (3, 3), activation='relu')(inputs)\n",
    "    #conv = layers.BatchNormalization()(conv)\n",
    "    conv = layers.MaxPooling2D((2, 2))(conv)\n",
    "    #conv = layers.Conv2D(64, (3, 3), activation='relu')(conv)\n",
    "    #conv = layers.BatchNormalization()(conv)\n",
    "    conv = layers.MaxPooling2D((2, 2))(conv)\n",
    "    conv = layers.Conv2D(128, (3, 3), activation='relu')(conv)\n",
    "    #conv = layers.BatchNormalization()(conv)\n",
    "    conv = layers.MaxPooling2D((2, 2))(conv)\n",
    "    flatten = layers.Flatten()(conv)\n",
    "\n",
    "    # Fully connected layers\n",
    "    dense1 = layers.Dense(256, activation='relu')(flatten)\n",
    "    output = layers.Dense(num_classes)(dense1)\n",
    "\n",
    "    model = models.Model(inputs=inputs, outputs=output)\n",
    "    return model"
   ]
  },
  {
   "cell_type": "code",
   "execution_count": null,
   "id": "649109c2",
   "metadata": {},
   "outputs": [],
   "source": [
    "# Create and compile the model\n",
    "model = create_model()\n",
    "model.compile(optimizer='adam', loss='mean_squared_error')"
   ]
  },
  {
   "cell_type": "code",
   "execution_count": null,
   "id": "a5b101ea",
   "metadata": {},
   "outputs": [],
   "source": [
    "# Train the model\n",
    "history = model.fit(images_train, labels_train, batch_size=batch_size, epochs=epochs, validation_split=0.2)"
   ]
  },
  {
   "cell_type": "code",
   "execution_count": null,
   "id": "e39bebf9",
   "metadata": {},
   "outputs": [],
   "source": [
    "# Evaluate the model\n",
    "loss = model.evaluate(images_test, labels_test)\n",
    "print(\"Test Loss:\", loss)\n",
    "# Predict labels for test set\n",
    "predictions = model.predict(images_test)\n",
    "\n",
    "# Calculate accuracy\n",
    "accuracy = np.mean(np.abs(predictions - labels_test))\n",
    "print(\"Test Accuracy (MAE):\", accuracy)"
   ]
  },
  {
   "cell_type": "code",
   "execution_count": null,
   "id": "ab25332e",
   "metadata": {
    "lines_to_next_cell": 0
   },
   "outputs": [],
   "source": [
    "import matplotlib.pyplot as plt\n",
    "\n",
    "# Plot predictions vs labels_test\n",
    "plt.figure(figsize=(8, 6))\n",
    "plt.scatter(labels_test, predictions, color='blue')\n",
    "plt.plot([min(labels_test), max(labels_test)], [min(labels_test), max(labels_test)], color='red', linestyle='--')\n",
    "plt.title('Predictions vs Actual Labels')\n",
    "plt.xlabel('Actual Labels')\n",
    "plt.ylabel('Predictions')\n",
    "plt.grid(True)\n",
    "plt.show()"
   ]
  },
  {
   "cell_type": "code",
   "execution_count": null,
   "id": "adeb8761",
   "metadata": {
    "lines_to_next_cell": 2
   },
   "outputs": [],
   "source": []
  },
  {
   "cell_type": "code",
   "execution_count": null,
   "id": "74be4ec6",
   "metadata": {},
   "outputs": [],
   "source": [
    "import matplotlib.pyplot as plt\n",
    "# Plot the distribution of MAE\n",
    "plt.figure(figsize=(8, 6))\n",
    "plt.hist(np.abs(predictions - labels_test), bins=20, edgecolor='k')\n",
    "plt.title('Distribution of Absolute Error')\n",
    "plt.xlabel('Absolute Error')\n",
    "plt.ylabel('Frequency')\n",
    "plt.grid(True)\n",
    "plt.show()"
   ]
  },
  {
   "cell_type": "code",
   "execution_count": null,
   "id": "3b598528",
   "metadata": {},
   "outputs": [],
   "source": []
  }
 ],
 "metadata": {
  "jupytext": {
   "cell_metadata_filter": "-all",
   "notebook_metadata_filter": "-all"
  },
  "kernelspec": {
   "display_name": "Python 3 (ipykernel)",
   "language": "python",
   "name": "python3"
  },
  "language_info": {
   "codemirror_mode": {
    "name": "ipython",
    "version": 3
   },
   "file_extension": ".py",
   "mimetype": "text/x-python",
   "name": "python",
   "nbconvert_exporter": "python",
   "pygments_lexer": "ipython3",
   "version": "3.11.5"
  }
 },
 "nbformat": 4,
 "nbformat_minor": 5
}
